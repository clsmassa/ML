{
  "nbformat": 4,
  "nbformat_minor": 0,
  "metadata": {
    "colab": {
      "name": "boston_housing.ipynb",
      "provenance": []
    },
    "kernelspec": {
      "name": "python3",
      "display_name": "Python 3"
    },
    "accelerator": "GPU"
  },
  "cells": [
    {
      "cell_type": "code",
      "metadata": {
        "id": "so9vEjrxHs9B"
      },
      "source": [
        "\r\n",
        "import numpy as np\r\n",
        "import matplotlib.pyplot as plt \r\n",
        "\r\n",
        "import pandas as pd  \r\n",
        "import seaborn as sns \r\n",
        "from tensorflow.keras.models import Sequential\r\n",
        "from tensorflow.keras.layers import Dense\r\n",
        "%matplotlib inline\r\n",
        "\r\n",
        "from sklearn.datasets import load_boston\r\n",
        "boston_dataset = load_boston()\r\n",
        "import tensorflow.test as test\r\n",
        "test.gpu_device_name()\r\n",
        "from tensorflow.python.client import device_lib\r\n",
        "device_lib.list_local_devices()\r\n",
        "#from tensorflow import config.ConfigProto\r\n",
        "from tensorflow import device\r\n",
        "#config = tensorflow.config.ConfigProto( device_count = {'GPU': 1 , 'CPU': 1} )\r\n"
      ],
      "execution_count": null,
      "outputs": []
    },
    {
      "cell_type": "code",
      "metadata": {
        "colab": {
          "base_uri": "https://localhost:8080/"
        },
        "id": "ZtlRQJ74ZuUK",
        "outputId": "40a96f93-2178-4794-cfc1-afe5df8bf642"
      },
      "source": [
        "!cat /proc/meminfo\r\n",
        "tensorflow.device(\"gpu:0\") "
      ],
      "execution_count": null,
      "outputs": [
        {
          "output_type": "stream",
          "text": [
            "MemTotal:       13333596 kB\n",
            "MemFree:         9150512 kB\n",
            "MemAvailable:   11892280 kB\n",
            "Buffers:           82680 kB\n",
            "Cached:          2570140 kB\n",
            "SwapCached:            0 kB\n",
            "Active:          1440536 kB\n",
            "Inactive:        2318524 kB\n",
            "Active(anon):     832432 kB\n",
            "Inactive(anon):    12680 kB\n",
            "Active(file):     608104 kB\n",
            "Inactive(file):  2305844 kB\n",
            "Unevictable:           0 kB\n",
            "Mlocked:               0 kB\n",
            "SwapTotal:             0 kB\n",
            "SwapFree:              0 kB\n",
            "Dirty:              6056 kB\n",
            "Writeback:             0 kB\n",
            "AnonPages:       1106044 kB\n",
            "Mapped:           637072 kB\n",
            "Shmem:             13492 kB\n",
            "Slab:             189200 kB\n",
            "SReclaimable:     137152 kB\n",
            "SUnreclaim:        52048 kB\n",
            "KernelStack:        4464 kB\n",
            "PageTables:         9248 kB\n",
            "NFS_Unstable:          0 kB\n",
            "Bounce:                0 kB\n",
            "WritebackTmp:          0 kB\n",
            "CommitLimit:     6666796 kB\n",
            "Committed_AS:    3866980 kB\n",
            "VmallocTotal:   34359738367 kB\n",
            "VmallocUsed:           0 kB\n",
            "VmallocChunk:          0 kB\n",
            "Percpu:             1048 kB\n",
            "AnonHugePages:         0 kB\n",
            "ShmemHugePages:        0 kB\n",
            "ShmemPmdMapped:        0 kB\n",
            "HugePages_Total:       0\n",
            "HugePages_Free:        0\n",
            "HugePages_Rsvd:        0\n",
            "HugePages_Surp:        0\n",
            "Hugepagesize:       2048 kB\n",
            "Hugetlb:               0 kB\n",
            "DirectMap4k:      193768 kB\n",
            "DirectMap2M:     5048320 kB\n",
            "DirectMap1G:    10485760 kB\n"
          ],
          "name": "stdout"
        },
        {
          "output_type": "execute_result",
          "data": {
            "text/plain": [
              "<tensorflow.python.eager.context._EagerDeviceContext at 0x7f63587b7cd0>"
            ]
          },
          "metadata": {
            "tags": []
          },
          "execution_count": 50
        }
      ]
    },
    {
      "cell_type": "code",
      "metadata": {
        "id": "VGmiHSMyIAOH"
      },
      "source": [
        "df = pd.DataFrame(data=boston_dataset.data , columns=boston_dataset.feature_names)\r\n",
        "df[\"Price\"]=boston_dataset.target"
      ],
      "execution_count": null,
      "outputs": []
    },
    {
      "cell_type": "code",
      "metadata": {
        "colab": {
          "base_uri": "https://localhost:8080/"
        },
        "id": "emTBGrlZIDND",
        "outputId": "1018dda8-7060-43f4-eeb9-281290bd081a"
      },
      "source": [
        "print(boston_dataset.DESCR)"
      ],
      "execution_count": null,
      "outputs": [
        {
          "output_type": "stream",
          "text": [
            ".. _boston_dataset:\n",
            "\n",
            "Boston house prices dataset\n",
            "---------------------------\n",
            "\n",
            "**Data Set Characteristics:**  \n",
            "\n",
            "    :Number of Instances: 506 \n",
            "\n",
            "    :Number of Attributes: 13 numeric/categorical predictive. Median Value (attribute 14) is usually the target.\n",
            "\n",
            "    :Attribute Information (in order):\n",
            "        - CRIM     per capita crime rate by town\n",
            "        - ZN       proportion of residential land zoned for lots over 25,000 sq.ft.\n",
            "        - INDUS    proportion of non-retail business acres per town\n",
            "        - CHAS     Charles River dummy variable (= 1 if tract bounds river; 0 otherwise)\n",
            "        - NOX      nitric oxides concentration (parts per 10 million)\n",
            "        - RM       average number of rooms per dwelling\n",
            "        - AGE      proportion of owner-occupied units built prior to 1940\n",
            "        - DIS      weighted distances to five Boston employment centres\n",
            "        - RAD      index of accessibility to radial highways\n",
            "        - TAX      full-value property-tax rate per $10,000\n",
            "        - PTRATIO  pupil-teacher ratio by town\n",
            "        - B        1000(Bk - 0.63)^2 where Bk is the proportion of blacks by town\n",
            "        - LSTAT    % lower status of the population\n",
            "        - MEDV     Median value of owner-occupied homes in $1000's\n",
            "\n",
            "    :Missing Attribute Values: None\n",
            "\n",
            "    :Creator: Harrison, D. and Rubinfeld, D.L.\n",
            "\n",
            "This is a copy of UCI ML housing dataset.\n",
            "https://archive.ics.uci.edu/ml/machine-learning-databases/housing/\n",
            "\n",
            "\n",
            "This dataset was taken from the StatLib library which is maintained at Carnegie Mellon University.\n",
            "\n",
            "The Boston house-price data of Harrison, D. and Rubinfeld, D.L. 'Hedonic\n",
            "prices and the demand for clean air', J. Environ. Economics & Management,\n",
            "vol.5, 81-102, 1978.   Used in Belsley, Kuh & Welsch, 'Regression diagnostics\n",
            "...', Wiley, 1980.   N.B. Various transformations are used in the table on\n",
            "pages 244-261 of the latter.\n",
            "\n",
            "The Boston house-price data has been used in many machine learning papers that address regression\n",
            "problems.   \n",
            "     \n",
            ".. topic:: References\n",
            "\n",
            "   - Belsley, Kuh & Welsch, 'Regression diagnostics: Identifying Influential Data and Sources of Collinearity', Wiley, 1980. 244-261.\n",
            "   - Quinlan,R. (1993). Combining Instance-Based and Model-Based Learning. In Proceedings on the Tenth International Conference of Machine Learning, 236-243, University of Massachusetts, Amherst. Morgan Kaufmann.\n",
            "\n"
          ],
          "name": "stdout"
        }
      ]
    },
    {
      "cell_type": "code",
      "metadata": {
        "id": "QelIqv3xIaIW"
      },
      "source": [
        "from pandas_profiling import ProfileReport\r\n",
        "#! pip install https://github.com/pandas-profiling/pandas-profiling/archive/master.zip "
      ],
      "execution_count": null,
      "outputs": []
    },
    {
      "cell_type": "code",
      "metadata": {
        "id": "ILBE-ZQvIbvu"
      },
      "source": [
        ""
      ],
      "execution_count": null,
      "outputs": []
    },
    {
      "cell_type": "code",
      "metadata": {
        "id": "PNOU5YaMI_XR"
      },
      "source": [
        "profile = ProfileReport(df, title=\"Boston_Housing\", explorative=True)\r\n",
        "profile.to_notebook_iframe()"
      ],
      "execution_count": null,
      "outputs": []
    },
    {
      "cell_type": "code",
      "metadata": {
        "colab": {
          "base_uri": "https://localhost:8080/"
        },
        "id": "dC3n7mF6KfcH",
        "outputId": "ca6b9d5b-1faa-4de8-b156-ca29be29e6a1"
      },
      "source": [
        "from sklearn.model_selection import train_test_split\r\n",
        "model=Sequential()\r\n",
        "model.add(Dense(units=128,input_dim=12,activation='relu'))\r\n",
        "model.add(Dense(units=64,activation='relu'))\r\n",
        "model.add(Dense(units = 1 ,activation=\"linear\"))\r\n",
        "\r\n",
        "model.compile(loss=\"mse\",optimizer='adam')\r\n",
        "# Afterwards, we do automatic shape inference:\r\n",
        "# This is identical to the following:\r\n",
        "\r\n",
        "print(model.summary())"
      ],
      "execution_count": null,
      "outputs": [
        {
          "output_type": "stream",
          "text": [
            "Model: \"sequential_3\"\n",
            "_________________________________________________________________\n",
            "Layer (type)                 Output Shape              Param #   \n",
            "=================================================================\n",
            "dense_9 (Dense)              (None, 128)               1664      \n",
            "_________________________________________________________________\n",
            "dense_10 (Dense)             (None, 64)                8256      \n",
            "_________________________________________________________________\n",
            "dense_11 (Dense)             (None, 1)                 65        \n",
            "=================================================================\n",
            "Total params: 9,985\n",
            "Trainable params: 9,985\n",
            "Non-trainable params: 0\n",
            "_________________________________________________________________\n",
            "None\n"
          ],
          "name": "stdout"
        }
      ]
    },
    {
      "cell_type": "code",
      "metadata": {
        "colab": {
          "base_uri": "https://localhost:8080/"
        },
        "id": "z2EPXfi_SZaf",
        "outputId": "6a1eabc4-8c60-41b0-ce3c-a60548e9c5fc"
      },
      "source": [
        "\r\n",
        "# demonstrate data standardization with sklearn\r\n",
        "from sklearn.preprocessing import StandardScaler\r\n",
        "\r\n",
        "#Create train and test databases\r\n",
        "col=df.columns.to_list()\r\n",
        "X=df[col[:-2]].values\r\n",
        "\r\n",
        "y=df[col[-1]].values\r\n",
        "\r\n",
        "X_train,X_test,y_train,y_test = train_test_split(X,y,test_size=0.3,random_state=123)\r\n",
        "\r\n",
        "mean=X_train.mean(axis=0)\r\n",
        "std=X_train.std(axis=0)\r\n",
        "X_train=(X_train-mean)/std\r\n",
        "\r\n",
        "#mean=X_test.mean(axis=0)\r\n",
        "#std=X_test.std(axis=0)\r\n",
        "\r\n",
        "X_test=(X_test-mean)/std\r\n",
        "\r\n",
        "\r\n",
        "mean=y_train.mean(axis=0)\r\n",
        "std=y_train.std(axis=0)\r\n",
        "y_train=(y_train-mean)/std\r\n",
        "\r\n",
        "#mean=y_test.mean(axis=0)\r\n",
        "#std=y_test.std(axis=0)\r\n",
        "\r\n",
        "y_test=(y_test-mean)/std\r\n",
        "\r\n",
        "\r\n",
        "model.fit(X_train, y_train, epochs=100)\r\n"
      ],
      "execution_count": null,
      "outputs": [
        {
          "output_type": "stream",
          "text": [
            "Epoch 1/100\n",
            "12/12 [==============================] - 0s 2ms/step - loss: 289.4102\n",
            "Epoch 2/100\n",
            "12/12 [==============================] - 0s 2ms/step - loss: 10.5616\n",
            "Epoch 3/100\n",
            "12/12 [==============================] - 0s 2ms/step - loss: 11.6053\n",
            "Epoch 4/100\n",
            "12/12 [==============================] - 0s 2ms/step - loss: 2.1857\n",
            "Epoch 5/100\n",
            "12/12 [==============================] - 0s 2ms/step - loss: 1.1493\n",
            "Epoch 6/100\n",
            "12/12 [==============================] - 0s 2ms/step - loss: 0.7513\n",
            "Epoch 7/100\n",
            "12/12 [==============================] - 0s 2ms/step - loss: 0.6035\n",
            "Epoch 8/100\n",
            "12/12 [==============================] - 0s 2ms/step - loss: 0.5410\n",
            "Epoch 9/100\n",
            "12/12 [==============================] - 0s 2ms/step - loss: 0.4823\n",
            "Epoch 10/100\n",
            "12/12 [==============================] - 0s 2ms/step - loss: 0.4426\n",
            "Epoch 11/100\n",
            "12/12 [==============================] - 0s 2ms/step - loss: 0.4154\n",
            "Epoch 12/100\n",
            "12/12 [==============================] - 0s 2ms/step - loss: 0.3903\n",
            "Epoch 13/100\n",
            "12/12 [==============================] - 0s 2ms/step - loss: 0.3683\n",
            "Epoch 14/100\n",
            "12/12 [==============================] - 0s 2ms/step - loss: 0.3492\n",
            "Epoch 15/100\n",
            "12/12 [==============================] - 0s 2ms/step - loss: 0.3312\n",
            "Epoch 16/100\n",
            "12/12 [==============================] - 0s 2ms/step - loss: 0.3190\n",
            "Epoch 17/100\n",
            "12/12 [==============================] - 0s 2ms/step - loss: 0.3075\n",
            "Epoch 18/100\n",
            "12/12 [==============================] - 0s 2ms/step - loss: 0.2924\n",
            "Epoch 19/100\n",
            "12/12 [==============================] - 0s 2ms/step - loss: 0.2813\n",
            "Epoch 20/100\n",
            "12/12 [==============================] - 0s 2ms/step - loss: 0.2703\n",
            "Epoch 21/100\n",
            "12/12 [==============================] - 0s 2ms/step - loss: 0.2605\n",
            "Epoch 22/100\n",
            "12/12 [==============================] - 0s 2ms/step - loss: 0.2522\n",
            "Epoch 23/100\n",
            "12/12 [==============================] - 0s 2ms/step - loss: 0.2466\n",
            "Epoch 24/100\n",
            "12/12 [==============================] - 0s 2ms/step - loss: 0.2371\n",
            "Epoch 25/100\n",
            "12/12 [==============================] - 0s 2ms/step - loss: 0.2300\n",
            "Epoch 26/100\n",
            "12/12 [==============================] - 0s 2ms/step - loss: 0.2240\n",
            "Epoch 27/100\n",
            "12/12 [==============================] - 0s 2ms/step - loss: 0.2184\n",
            "Epoch 28/100\n",
            "12/12 [==============================] - 0s 3ms/step - loss: 0.2138\n",
            "Epoch 29/100\n",
            "12/12 [==============================] - 0s 2ms/step - loss: 0.2072\n",
            "Epoch 30/100\n",
            "12/12 [==============================] - 0s 2ms/step - loss: 0.2035\n",
            "Epoch 31/100\n",
            "12/12 [==============================] - 0s 2ms/step - loss: 0.1995\n",
            "Epoch 32/100\n",
            "12/12 [==============================] - 0s 2ms/step - loss: 0.1943\n",
            "Epoch 33/100\n",
            "12/12 [==============================] - 0s 2ms/step - loss: 0.1906\n",
            "Epoch 34/100\n",
            "12/12 [==============================] - 0s 2ms/step - loss: 0.1880\n",
            "Epoch 35/100\n",
            "12/12 [==============================] - 0s 2ms/step - loss: 0.1856\n",
            "Epoch 36/100\n",
            "12/12 [==============================] - 0s 2ms/step - loss: 0.1830\n",
            "Epoch 37/100\n",
            "12/12 [==============================] - 0s 2ms/step - loss: 0.1784\n",
            "Epoch 38/100\n",
            "12/12 [==============================] - 0s 2ms/step - loss: 0.1748\n",
            "Epoch 39/100\n",
            "12/12 [==============================] - 0s 2ms/step - loss: 0.1730\n",
            "Epoch 40/100\n",
            "12/12 [==============================] - 0s 2ms/step - loss: 0.1727\n",
            "Epoch 41/100\n",
            "12/12 [==============================] - 0s 2ms/step - loss: 0.1729\n",
            "Epoch 42/100\n",
            "12/12 [==============================] - 0s 2ms/step - loss: 0.1682\n",
            "Epoch 43/100\n",
            "12/12 [==============================] - 0s 2ms/step - loss: 0.1655\n",
            "Epoch 44/100\n",
            "12/12 [==============================] - 0s 2ms/step - loss: 0.1654\n",
            "Epoch 45/100\n",
            "12/12 [==============================] - 0s 2ms/step - loss: 0.1636\n",
            "Epoch 46/100\n",
            "12/12 [==============================] - 0s 2ms/step - loss: 0.1624\n",
            "Epoch 47/100\n",
            "12/12 [==============================] - 0s 2ms/step - loss: 0.1624\n",
            "Epoch 48/100\n",
            "12/12 [==============================] - 0s 2ms/step - loss: 0.1585\n",
            "Epoch 49/100\n",
            "12/12 [==============================] - 0s 2ms/step - loss: 0.1569\n",
            "Epoch 50/100\n",
            "12/12 [==============================] - 0s 2ms/step - loss: 0.1560\n",
            "Epoch 51/100\n",
            "12/12 [==============================] - 0s 2ms/step - loss: 0.1569\n",
            "Epoch 52/100\n",
            "12/12 [==============================] - 0s 2ms/step - loss: 0.1537\n",
            "Epoch 53/100\n",
            "12/12 [==============================] - 0s 2ms/step - loss: 0.1518\n",
            "Epoch 54/100\n",
            "12/12 [==============================] - 0s 2ms/step - loss: 0.1506\n",
            "Epoch 55/100\n",
            "12/12 [==============================] - 0s 2ms/step - loss: 0.1492\n",
            "Epoch 56/100\n",
            "12/12 [==============================] - 0s 2ms/step - loss: 0.1498\n",
            "Epoch 57/100\n",
            "12/12 [==============================] - 0s 2ms/step - loss: 0.1502\n",
            "Epoch 58/100\n",
            "12/12 [==============================] - 0s 2ms/step - loss: 0.1466\n",
            "Epoch 59/100\n",
            "12/12 [==============================] - 0s 2ms/step - loss: 0.1454\n",
            "Epoch 60/100\n",
            "12/12 [==============================] - 0s 2ms/step - loss: 0.1445\n",
            "Epoch 61/100\n",
            "12/12 [==============================] - 0s 2ms/step - loss: 0.1444\n",
            "Epoch 62/100\n",
            "12/12 [==============================] - 0s 2ms/step - loss: 0.1435\n",
            "Epoch 63/100\n",
            "12/12 [==============================] - 0s 2ms/step - loss: 0.1421\n",
            "Epoch 64/100\n",
            "12/12 [==============================] - 0s 2ms/step - loss: 0.1404\n",
            "Epoch 65/100\n",
            "12/12 [==============================] - 0s 2ms/step - loss: 0.1403\n",
            "Epoch 66/100\n",
            "12/12 [==============================] - 0s 2ms/step - loss: 0.1389\n",
            "Epoch 67/100\n",
            "12/12 [==============================] - 0s 2ms/step - loss: 0.1378\n",
            "Epoch 68/100\n",
            "12/12 [==============================] - 0s 2ms/step - loss: 0.1362\n",
            "Epoch 69/100\n",
            "12/12 [==============================] - 0s 2ms/step - loss: 0.1367\n",
            "Epoch 70/100\n",
            "12/12 [==============================] - 0s 2ms/step - loss: 0.1362\n",
            "Epoch 71/100\n",
            "12/12 [==============================] - 0s 2ms/step - loss: 0.1346\n",
            "Epoch 72/100\n",
            "12/12 [==============================] - 0s 2ms/step - loss: 0.1343\n",
            "Epoch 73/100\n",
            "12/12 [==============================] - 0s 2ms/step - loss: 0.1345\n",
            "Epoch 74/100\n",
            "12/12 [==============================] - 0s 2ms/step - loss: 0.1328\n",
            "Epoch 75/100\n",
            "12/12 [==============================] - 0s 2ms/step - loss: 0.1325\n",
            "Epoch 76/100\n",
            "12/12 [==============================] - 0s 2ms/step - loss: 0.1320\n",
            "Epoch 77/100\n",
            "12/12 [==============================] - 0s 2ms/step - loss: 0.1309\n",
            "Epoch 78/100\n",
            "12/12 [==============================] - 0s 2ms/step - loss: 0.1307\n",
            "Epoch 79/100\n",
            "12/12 [==============================] - 0s 2ms/step - loss: 0.1294\n",
            "Epoch 80/100\n",
            "12/12 [==============================] - 0s 2ms/step - loss: 0.1292\n",
            "Epoch 81/100\n",
            "12/12 [==============================] - 0s 2ms/step - loss: 0.1282\n",
            "Epoch 82/100\n",
            "12/12 [==============================] - 0s 2ms/step - loss: 0.1297\n",
            "Epoch 83/100\n",
            "12/12 [==============================] - 0s 2ms/step - loss: 0.1289\n",
            "Epoch 84/100\n",
            "12/12 [==============================] - 0s 2ms/step - loss: 0.1283\n",
            "Epoch 85/100\n",
            "12/12 [==============================] - 0s 2ms/step - loss: 0.1284\n",
            "Epoch 86/100\n",
            "12/12 [==============================] - 0s 2ms/step - loss: 0.1269\n",
            "Epoch 87/100\n",
            "12/12 [==============================] - 0s 2ms/step - loss: 0.1257\n",
            "Epoch 88/100\n",
            "12/12 [==============================] - 0s 2ms/step - loss: 0.1247\n",
            "Epoch 89/100\n",
            "12/12 [==============================] - 0s 2ms/step - loss: 0.1236\n",
            "Epoch 90/100\n",
            "12/12 [==============================] - 0s 2ms/step - loss: 0.1243\n",
            "Epoch 91/100\n",
            "12/12 [==============================] - 0s 2ms/step - loss: 0.1244\n",
            "Epoch 92/100\n",
            "12/12 [==============================] - 0s 2ms/step - loss: 0.1235\n",
            "Epoch 93/100\n",
            "12/12 [==============================] - 0s 2ms/step - loss: 0.1218\n",
            "Epoch 94/100\n",
            "12/12 [==============================] - 0s 2ms/step - loss: 0.1209\n",
            "Epoch 95/100\n",
            "12/12 [==============================] - 0s 2ms/step - loss: 0.1201\n",
            "Epoch 96/100\n",
            "12/12 [==============================] - 0s 2ms/step - loss: 0.1213\n",
            "Epoch 97/100\n",
            "12/12 [==============================] - 0s 2ms/step - loss: 0.1204\n",
            "Epoch 98/100\n",
            "12/12 [==============================] - 0s 2ms/step - loss: 0.1214\n",
            "Epoch 99/100\n",
            "12/12 [==============================] - 0s 2ms/step - loss: 0.1201\n",
            "Epoch 100/100\n",
            "12/12 [==============================] - 0s 2ms/step - loss: 0.1200\n"
          ],
          "name": "stdout"
        },
        {
          "output_type": "execute_result",
          "data": {
            "text/plain": [
              "<tensorflow.python.keras.callbacks.History at 0x7f63561285d0>"
            ]
          },
          "metadata": {
            "tags": []
          },
          "execution_count": 65
        }
      ]
    },
    {
      "cell_type": "code",
      "metadata": {
        "id": "KU-S_ByzXlVV"
      },
      "source": [
        ""
      ],
      "execution_count": null,
      "outputs": []
    },
    {
      "cell_type": "code",
      "metadata": {
        "colab": {
          "base_uri": "https://localhost:8080/"
        },
        "id": "kycR2_-6fEiO",
        "outputId": "6e56acef-b63c-437e-ac9f-696dbaa67f0d"
      },
      "source": [
        "#Model evaluation\r\n",
        "\r\n",
        "loss = model.evaluate(X_test,y_test)\r\n",
        "print(\"Mean squared error on test data:\",loss)"
      ],
      "execution_count": null,
      "outputs": [
        {
          "output_type": "stream",
          "text": [
            "5/5 [==============================] - 0s 2ms/step - loss: 0.3335\n",
            "Mean squared error on test data: 0.33354121446609497\n"
          ],
          "name": "stdout"
        }
      ]
    },
    {
      "cell_type": "code",
      "metadata": {
        "colab": {
          "base_uri": "https://localhost:8080/"
        },
        "id": "WXAWHrWTfLxJ",
        "outputId": "8b772218-fdfe-407a-a394-6c95528f7b2e"
      },
      "source": [
        "X_train"
      ],
      "execution_count": null,
      "outputs": [
        {
          "output_type": "execute_result",
          "data": {
            "text/plain": [
              "array([[-0.35842932,  0.37320621, -0.57528914, ..., -1.07497958,\n",
              "         0.07439155,  0.3453823 ],\n",
              "       [-0.37674054,  0.41676539, -0.76854658, ..., -0.95456799,\n",
              "        -0.77056919,  0.41521182],\n",
              "       [-0.37507786, -0.49797742, -1.23412134, ..., -1.25559697,\n",
              "        -0.30114655,  0.41521182],\n",
              "       ...,\n",
              "       [-0.34436402, -0.49797742, -0.51379813, ..., -0.68966249,\n",
              "         0.54381419,  0.41521182],\n",
              "       [ 0.61710364, -0.49797742,  1.05568658, ...,  1.59213716,\n",
              "         0.82546777,  0.41521182],\n",
              "       [ 0.11316957, -0.49797742,  1.05568658, ...,  1.59213716,\n",
              "         0.82546777, -0.06550689]])"
            ]
          },
          "metadata": {
            "tags": []
          },
          "execution_count": 42
        }
      ]
    },
    {
      "cell_type": "code",
      "metadata": {
        "id": "_PhYxbZEfOCe"
      },
      "source": [
        ""
      ],
      "execution_count": null,
      "outputs": []
    }
  ]
}